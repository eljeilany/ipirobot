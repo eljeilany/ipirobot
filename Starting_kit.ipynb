{
 "cells": [
  {
   "cell_type": "markdown",
   "metadata": {},
   "source": [
    "#EYE ROBOT Challenge Starting Kit"
   ]
  },
  {
   "cell_type": "markdown",
   "metadata": {},
   "source": [
    "Here is a starting kit that help you to load the data and export your results. Good luck! :)\n",
    "\n",
    "Hints:\n",
    "\n",
    "- at first, you can try basic classifiers from sklearn, we think that you can manage to have a great score only with it\n",
    "\n",
    "- here are a few links of article that can help you to improve your work :\n",
    "\n",
    "http://www.hpl.hp.com/techreports/2008/HPL-2008-115.pdf\n",
    "\n",
    "http://scikit-learn.org/stable/modules/label_propagation.html\n",
    "\n",
    "http://www.cs.upc.edu/~aquattoni/AllMyPapers/phd_thesis.pdf\n",
    "\n",
    "- once your regressor is parametrized, maybe you can add the local validation data to the local training data to have a better training! Just saying... ;)"
   ]
  },
  {
   "cell_type": "markdown",
   "metadata": {},
   "source": [
    "## Libraries"
   ]
  },
  {
   "cell_type": "code",
   "execution_count": 1,
   "metadata": {
    "collapsed": true
   },
   "outputs": [],
   "source": [
    "%matplotlib inline\n",
    "import numpy as np\n",
    "import matplotlib.pyplot as plt"
   ]
  },
  {
   "cell_type": "markdown",
   "metadata": {},
   "source": [
    "## Functions definition\n",
    "\n",
    "DO NOT MODIFY THE NEXT TWO FUNCTIONS, JUST RUN THE CELL."
   ]
  },
  {
   "cell_type": "code",
   "execution_count": 2,
   "metadata": {
    "collapsed": false
   },
   "outputs": [],
   "source": [
    "def CSVtoData(file_name):\n",
    "    import csv\n",
    "    data = []\n",
    "    labels = []\n",
    "\n",
    "    print('Reading file %s' % file_name)\n",
    "    \n",
    "    with open(file_name, \"r\") as csvFile:\n",
    "        reader=csv.reader(csvFile, delimiter = ',')\n",
    "        lab = 1\n",
    "        for row in reader:\n",
    "            if lab == 0:\n",
    "                data.append(np.asarray(map(int,row[0:len(row)-1])))\n",
    "                labels.append(int(row[len(row)-1]))\n",
    "            else:\n",
    "                lab = 0\n",
    "\n",
    "    return np.asarray(data),np.asarray(labels)\n",
    "\n",
    "def loadData():\n",
    "    X_train,Y_train = CSVtoData(\"local_train.csv\")\n",
    "    X_valid,Y_valid = CSVtoData(\"local_valid.csv\")\n",
    "    X_submit_valid,Y_submit_valid = CSVtoData(\"submit_valid.csv\")\n",
    "    X_submit_test,Y_submit_test = CSVtoData(\"submit_test.csv\")\n",
    "    \n",
    "    return X_train,Y_train,X_valid,Y_valid,X_submit_valid,Y_submit_valid,X_submit_test,Y_submit_test\n",
    "\n",
    "def exportResults(Y_valid,Y_test):\n",
    "    from zipfile import ZipFile\n",
    "    from cStringIO import StringIO\n",
    "    import csv\n",
    "\n",
    "    with ZipFile('submit.zip', 'w') as zip_file:\n",
    "        y_buffer = StringIO()\n",
    "        csvwrite = csv.writer(y_buffer)\n",
    "        for y in Y_valid:\n",
    "            csvwrite.writerow([y])\n",
    "        zip_file.writestr(\"valid.predict\", y_buffer.getvalue())\n",
    "\n",
    "        for y in Y_test:\n",
    "            csvwrite.writerow([y])\n",
    "        zip_file.writestr(\"test.predict\", y_buffer.getvalue())"
   ]
  },
  {
   "cell_type": "markdown",
   "metadata": {},
   "source": [
    "## Data importation\n",
    "\n",
    "In this part we load the data and display some useful information about it."
   ]
  },
  {
   "cell_type": "code",
   "execution_count": 3,
   "metadata": {
    "collapsed": false
   },
   "outputs": [
    {
     "name": "stdout",
     "output_type": "stream",
     "text": [
      "Reading file local_train.csv\n",
      "Reading file local_valid.csv\n",
      "Reading file submit_valid.csv\n",
      "Reading file submit_test.csv\n"
     ]
    }
   ],
   "source": [
    "# this task can take several minutes... \n",
    "X_train,Y_train,X_valid,Y_valid,X_submit_valid,Y_submit_valid,X_submit_test,Y_submit_test = loadData()"
   ]
  },
  {
   "cell_type": "code",
   "execution_count": 4,
   "metadata": {
    "collapsed": false
   },
   "outputs": [
    {
     "name": "stdout",
     "output_type": "stream",
     "text": [
      "Number of labels:  17\n",
      "\n",
      "Size of a data:  3072\n",
      "\n",
      "Number of local train data:  30514\n",
      "Number of local validation data:  10197\n",
      "Number of submission validation data:  3400\n",
      "Number of submission test data:  6811\n"
     ]
    }
   ],
   "source": [
    "print 'Number of labels: ', len(set(Y_train))\n",
    "print ''\n",
    "print 'Size of a data: ', X_train.shape[1]\n",
    "print ''\n",
    "print 'Number of local train data: ', X_train.shape[0]\n",
    "print 'Number of local validation data: ', X_valid.shape[0]\n",
    "print 'Number of submission validation data: ', X_submit_valid.shape[0]\n",
    "print 'Number of submission test data: ', X_submit_test.shape[0]"
   ]
  },
  {
   "cell_type": "markdown",
   "metadata": {},
   "source": [
    "## Baseline"
   ]
  },
  {
   "cell_type": "code",
   "execution_count": 7,
   "metadata": {
    "collapsed": false
   },
   "outputs": [
    {
     "name": "stdout",
     "output_type": "stream",
     "text": [
      "score: 0.15985\n"
     ]
    }
   ],
   "source": [
    "from sklearn.tree import tree\n",
    "\n",
    "param_grid = {'max_depth': [10, 100,1000,10000], 'max_features': [10, 100, 1000]}\n",
    "\n",
    "clf = tree.DecisionTreeClassifier(max_depth = 10, max_features = 1000)\n",
    "clf.fit(X_train,Y_train)\n",
    "\n",
    "print \"score: %0.5f\" % clf.score(X_valid,Y_valid)"
   ]
  },
  {
   "cell_type": "markdown",
   "metadata": {},
   "source": [
    "## Your work here"
   ]
  },
  {
   "cell_type": "code",
   "execution_count": null,
   "metadata": {
    "collapsed": true
   },
   "outputs": [],
   "source": []
  },
  {
   "cell_type": "markdown",
   "metadata": {},
   "source": [
    "## Predict on the submission here"
   ]
  },
  {
   "cell_type": "code",
   "execution_count": 8,
   "metadata": {
    "collapsed": true
   },
   "outputs": [],
   "source": [
    "Y_submit_valid = clf.predict(X_submit_valid)\n",
    "Y_submit_test = clf.predict(X_submit_test)"
   ]
  },
  {
   "cell_type": "markdown",
   "metadata": {},
   "source": [
    "## Export results\n",
    "\n",
    "The function exportResults create a submission.zip file from your results: Y_submit_valid and Y_submit_test. \n",
    "You can directly submit this file to the challenge and check your score on the leader board."
   ]
  },
  {
   "cell_type": "code",
   "execution_count": 10,
   "metadata": {
    "collapsed": false
   },
   "outputs": [],
   "source": [
    "exportResults(Y_submit_valid,Y_submit_test)"
   ]
  },
  {
   "cell_type": "code",
   "execution_count": null,
   "metadata": {
    "collapsed": true
   },
   "outputs": [],
   "source": []
  }
 ],
 "metadata": {
  "kernelspec": {
   "display_name": "Python 2",
   "language": "python",
   "name": "python2"
  },
  "language_info": {
   "codemirror_mode": {
    "name": "ipython",
    "version": 2
   },
   "file_extension": ".py",
   "mimetype": "text/x-python",
   "name": "python",
   "nbconvert_exporter": "python",
   "pygments_lexer": "ipython2",
   "version": "2.7.10"
  }
 },
 "nbformat": 4,
 "nbformat_minor": 0
}
